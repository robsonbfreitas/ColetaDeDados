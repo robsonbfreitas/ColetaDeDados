{
  "nbformat": 4,
  "nbformat_minor": 0,
  "metadata": {
    "colab": {
      "name": "EnviaMsgBotWhatsapp.ipynb",
      "provenance": [],
      "collapsed_sections": [],
      "authorship_tag": "ABX9TyOLJuYL9HZOt7/zoQbaIMnY",
      "include_colab_link": true
    },
    "kernelspec": {
      "name": "python3",
      "display_name": "Python 3"
    }
  },
  "cells": [
    {
      "cell_type": "markdown",
      "metadata": {
        "id": "view-in-github",
        "colab_type": "text"
      },
      "source": [
        "<a href=\"https://colab.research.google.com/github/robsonbfreitas/ColetaDeDados/blob/main/EnviaMsgBotWhatsapp.ipynb\" target=\"_parent\"><img src=\"https://colab.research.google.com/assets/colab-badge.svg\" alt=\"Open In Colab\"/></a>"
      ]
    },
    {
      "cell_type": "code",
      "metadata": {
        "id": "g0agbW584P9T"
      },
      "source": [
        "import pandas as pd\r\n"
      ],
      "execution_count": null,
      "outputs": []
    },
    {
      "cell_type": "code",
      "metadata": {
        "id": "zE5e44HAbRy6"
      },
      "source": [
        "from selenium import webdriver"
      ],
      "execution_count": null,
      "outputs": []
    },
    {
      "cell_type": "code",
      "metadata": {
        "id": "p9e2hmVHkkcG"
      },
      "source": [
        "df = pd.read_excel('c:\\arquivoscsv\\ListaContatos.xlsx')"
      ],
      "execution_count": null,
      "outputs": []
    },
    {
      "cell_type": "code",
      "metadata": {
        "id": "zpwnpJnziQM-"
      },
      "source": [
        "driver = webdriver.Chrome()"
      ],
      "execution_count": null,
      "outputs": []
    },
    {
      "cell_type": "code",
      "metadata": {
        "id": "G5EERG2uiXnL"
      },
      "source": [
        "driver.get('https://web.whatsapp.com')"
      ],
      "execution_count": null,
      "outputs": []
    },
    {
      "cell_type": "markdown",
      "metadata": {
        "id": "OslIDacszkZD"
      },
      "source": [
        "**Antes do próximo passo será necessário capturar o QRCode pelo celuluar**"
      ]
    },
    {
      "cell_type": "code",
      "metadata": {
        "id": "4oSwZ73PihQh"
      },
      "source": [
        "listaContatos = driver.find_elements_by_class_name('_3Tw1q')"
      ],
      "execution_count": null,
      "outputs": []
    },
    {
      "cell_type": "code",
      "metadata": {
        "id": "xsctkDGdkvFP"
      },
      "source": [
        "for index, row in df.iterrows():\r\n",
        "         print (f'Index: {index}, contato: {row.get(\"contato\"), 0}')\r\n",
        "         for item in listaContatos:\r\n",
        "             print (f'item.text: {item.text}')\r\n",
        "             if item.text == row.get(\"contato\"):\r\n",
        "                item.click()\r\n",
        "                texto = driver.find_element_by_xpath('/html/body/div[1]/div/div/div[4]/div/footer/div[1]/div[2]/div\r\n",
        "     /div[2]')\r\n",
        "                texto.send_keys('teste digitacao\\n')\r\n"
      ],
      "execution_count": null,
      "outputs": []
    }
  ]
}