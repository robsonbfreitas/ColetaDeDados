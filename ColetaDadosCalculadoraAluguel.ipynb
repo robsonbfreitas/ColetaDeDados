{
  "nbformat": 4,
  "nbformat_minor": 0,
  "metadata": {
    "colab": {
      "name": "ColetaDadosCalculadoraAluguel.ipynb",
      "provenance": [],
      "authorship_tag": "ABX9TyOE5NmIdD1/RVXJhGAzHGbK",
      "include_colab_link": true
    },
    "kernelspec": {
      "name": "python3",
      "display_name": "Python 3"
    }
  },
  "cells": [
    {
      "cell_type": "markdown",
      "metadata": {
        "id": "view-in-github",
        "colab_type": "text"
      },
      "source": [
        "<a href=\"https://colab.research.google.com/github/robsonbfreitas/ColetaDeDados/blob/main/ColetaDadosCalculadoraAluguel.ipynb\" target=\"_parent\"><img src=\"https://colab.research.google.com/assets/colab-badge.svg\" alt=\"Open In Colab\"/></a>"
      ]
    },
    {
      "cell_type": "code",
      "metadata": {
        "id": "NS8F_SLOsmAv"
      },
      "source": [
        "import requests\r\n",
        "from bs4 import BeautifulSoup"
      ],
      "execution_count": 1,
      "outputs": []
    },
    {
      "cell_type": "code",
      "metadata": {
        "id": "w1y2x7x0HZPW"
      },
      "source": [
        "url = 'https://www.vivareal.com.br/venda/sp/sao-paulo/apartamento_residencial/'"
      ],
      "execution_count": 2,
      "outputs": []
    },
    {
      "cell_type": "code",
      "metadata": {
        "id": "BHitBnK3HaGz"
      },
      "source": [
        "\r\n",
        "c = requests.get(url).content\r\n",
        "soup = BeautifulSoup(c)"
      ],
      "execution_count": 3,
      "outputs": []
    },
    {
      "cell_type": "code",
      "metadata": {
        "colab": {
          "base_uri": "https://localhost:8080/"
        },
        "id": "E9LX91L8Ht90",
        "outputId": "01107578-fa91-49af-9746-b97257457c78"
      },
      "source": [
        "aluguel_tag = soup.find_all('div', {'class':'property-card__price js-property-card-prices js-property-card__price-small'}) \r\n",
        "len(aluguel_tag)"
      ],
      "execution_count": 5,
      "outputs": [
        {
          "output_type": "execute_result",
          "data": {
            "text/plain": [
              "36"
            ]
          },
          "metadata": {
            "tags": []
          },
          "execution_count": 5
        }
      ]
    },
    {
      "cell_type": "code",
      "metadata": {
        "colab": {
          "base_uri": "https://localhost:8080/"
        },
        "id": "5rr9tJziIBH3",
        "outputId": "91f7481e-f9e5-4973-f341-5e6fe2d5ec81"
      },
      "source": [
        "paginas = ['']\r\n",
        "for i in range(2,40):\r\n",
        "    a = '?pagina='+str(i)\r\n",
        "    print(a)\r\n",
        "    paginas.append(a)"
      ],
      "execution_count": 6,
      "outputs": [
        {
          "output_type": "stream",
          "text": [
            "?pagina=2\n",
            "?pagina=3\n",
            "?pagina=4\n",
            "?pagina=5\n",
            "?pagina=6\n",
            "?pagina=7\n",
            "?pagina=8\n",
            "?pagina=9\n",
            "?pagina=10\n",
            "?pagina=11\n",
            "?pagina=12\n",
            "?pagina=13\n",
            "?pagina=14\n",
            "?pagina=15\n",
            "?pagina=16\n",
            "?pagina=17\n",
            "?pagina=18\n",
            "?pagina=19\n",
            "?pagina=20\n",
            "?pagina=21\n",
            "?pagina=22\n",
            "?pagina=23\n",
            "?pagina=24\n",
            "?pagina=25\n",
            "?pagina=26\n",
            "?pagina=27\n",
            "?pagina=28\n",
            "?pagina=29\n",
            "?pagina=30\n",
            "?pagina=31\n",
            "?pagina=32\n",
            "?pagina=33\n",
            "?pagina=34\n",
            "?pagina=35\n",
            "?pagina=36\n",
            "?pagina=37\n",
            "?pagina=38\n",
            "?pagina=39\n"
          ],
          "name": "stdout"
        }
      ]
    },
    {
      "cell_type": "code",
      "metadata": {
        "id": "nzSzn8AKIfKj"
      },
      "source": [
        "import pandas as pd\r\n",
        "def converter_df(aluguel_lista,quartos_lista,endereco_lista,banheiro_lista,vaga_lista,area_lista):\r\n",
        "    data = {'aluguel':aluguel_lista,\r\n",
        "           'quartos':quartos_lista,\r\n",
        "           'endereco':endereco_lista,\r\n",
        "           'banheiro':banheiro_lista,\r\n",
        "            'vaga':vaga_lista,\r\n",
        "            'area':area_lista}\r\n",
        "    df = pd.DataFrame(data)\r\n",
        "    return df"
      ],
      "execution_count": 7,
      "outputs": []
    },
    {
      "cell_type": "code",
      "metadata": {
        "id": "2HhqJLagImKZ"
      },
      "source": [
        "def scrap(url):\r\n",
        "    c = requests.get(url).content\r\n",
        "    soup = BeautifulSoup(c)\r\n",
        "    \r\n",
        "    aluguel_tag = soup.find_all('div', {'class':'property-card__price js-property-card-prices js-property-card__price-small'}) \r\n",
        "    aluguel_lista = [p.text for p in aluguel_tag] \r\n",
        "    #print(len(aluguel_lista)) \r\n",
        "    \r\n",
        "    quartos_tag = soup.find_all('li', {'class': 'property-card__detail-item property-card__detail-room js-property-detail-rooms'}) \r\n",
        "    quartos_lista = [en.text for en in quartos_tag] \r\n",
        "    #print(len(quartos_lista)) \r\n",
        "    \r\n",
        "    endereco_tag = soup.find_all('span', {'class': 'property-card__address'}) \r\n",
        "    endereco_lista = [fg.text for fg in endereco_tag] \r\n",
        "    #print(len(endereco_lista)) \r\n",
        "    \r\n",
        "    banheiro_tag = soup.find_all('li', {'class': 'property-card__detail-item property-card__detail-bathroom js-property-detail-bathroom'}) \r\n",
        "    banheiro_lista = [yp.text for yp in banheiro_tag] \r\n",
        "    #print(len(banheiro_lista))\r\n",
        "\r\n",
        "    vaga_tag = soup.find_all('li', {'class': 'property-card__detail-item property-card__detail-garage js-property-detail-garages'}) \r\n",
        "    vaga_lista = [yp.text for yp in vaga_tag] \r\n",
        "\r\n",
        "    area_tag = soup.find_all('li', {'class': 'property-card__detail-item property-card__detail-area'}) \r\n",
        "    area_lista = [yp.text for yp in area_tag] \r\n",
        "\r\n",
        "\r\n",
        "    ### Vamos ter criar uma função para transformar listas em df\r\n",
        "    df=converter_df(aluguel_lista,quartos_lista,endereco_lista,banheiro_lista,vaga_lista,area_lista)\r\n",
        "    \r\n",
        "    return df\r\n"
      ],
      "execution_count": 8,
      "outputs": []
    },
    {
      "cell_type": "code",
      "metadata": {
        "id": "DMn14pGtJREg"
      },
      "source": [
        "URL = 'https://www.vivareal.com.br/aluguel/sp/sao-paulo/apartamento_residencial/{}'"
      ],
      "execution_count": 9,
      "outputs": []
    },
    {
      "cell_type": "code",
      "metadata": {
        "colab": {
          "base_uri": "https://localhost:8080/"
        },
        "id": "0sIKrXXJJUMU",
        "outputId": "e3251bc1-d260-4a50-c20e-f5afef64c5cd"
      },
      "source": [
        "df_lista = []\r\n",
        "for pg in paginas:\r\n",
        "    url = URL.format(pg)\r\n",
        "    print('Coletando URL:', url)\r\n",
        "    try:\r\n",
        "        df = scrap(url)\r\n",
        "    except Exception as e:\r\n",
        "        print('Erro ao coletar dados na url:', url)\r\n",
        "        print(e)\r\n",
        "    df_lista.append(df)"
      ],
      "execution_count": 10,
      "outputs": [
        {
          "output_type": "stream",
          "text": [
            "Coletando URL: https://www.vivareal.com.br/aluguel/sp/sao-paulo/apartamento_residencial/\n",
            "Coletando URL: https://www.vivareal.com.br/aluguel/sp/sao-paulo/apartamento_residencial/?pagina=2\n",
            "Coletando URL: https://www.vivareal.com.br/aluguel/sp/sao-paulo/apartamento_residencial/?pagina=3\n",
            "Coletando URL: https://www.vivareal.com.br/aluguel/sp/sao-paulo/apartamento_residencial/?pagina=4\n",
            "Coletando URL: https://www.vivareal.com.br/aluguel/sp/sao-paulo/apartamento_residencial/?pagina=5\n",
            "Coletando URL: https://www.vivareal.com.br/aluguel/sp/sao-paulo/apartamento_residencial/?pagina=6\n",
            "Coletando URL: https://www.vivareal.com.br/aluguel/sp/sao-paulo/apartamento_residencial/?pagina=7\n",
            "Coletando URL: https://www.vivareal.com.br/aluguel/sp/sao-paulo/apartamento_residencial/?pagina=8\n",
            "Coletando URL: https://www.vivareal.com.br/aluguel/sp/sao-paulo/apartamento_residencial/?pagina=9\n",
            "Coletando URL: https://www.vivareal.com.br/aluguel/sp/sao-paulo/apartamento_residencial/?pagina=10\n",
            "Coletando URL: https://www.vivareal.com.br/aluguel/sp/sao-paulo/apartamento_residencial/?pagina=11\n",
            "Coletando URL: https://www.vivareal.com.br/aluguel/sp/sao-paulo/apartamento_residencial/?pagina=12\n",
            "Coletando URL: https://www.vivareal.com.br/aluguel/sp/sao-paulo/apartamento_residencial/?pagina=13\n",
            "Coletando URL: https://www.vivareal.com.br/aluguel/sp/sao-paulo/apartamento_residencial/?pagina=14\n",
            "Coletando URL: https://www.vivareal.com.br/aluguel/sp/sao-paulo/apartamento_residencial/?pagina=15\n",
            "Coletando URL: https://www.vivareal.com.br/aluguel/sp/sao-paulo/apartamento_residencial/?pagina=16\n",
            "Coletando URL: https://www.vivareal.com.br/aluguel/sp/sao-paulo/apartamento_residencial/?pagina=17\n",
            "Coletando URL: https://www.vivareal.com.br/aluguel/sp/sao-paulo/apartamento_residencial/?pagina=18\n",
            "Coletando URL: https://www.vivareal.com.br/aluguel/sp/sao-paulo/apartamento_residencial/?pagina=19\n",
            "Coletando URL: https://www.vivareal.com.br/aluguel/sp/sao-paulo/apartamento_residencial/?pagina=20\n",
            "Coletando URL: https://www.vivareal.com.br/aluguel/sp/sao-paulo/apartamento_residencial/?pagina=21\n",
            "Coletando URL: https://www.vivareal.com.br/aluguel/sp/sao-paulo/apartamento_residencial/?pagina=22\n",
            "Coletando URL: https://www.vivareal.com.br/aluguel/sp/sao-paulo/apartamento_residencial/?pagina=23\n",
            "Coletando URL: https://www.vivareal.com.br/aluguel/sp/sao-paulo/apartamento_residencial/?pagina=24\n",
            "Coletando URL: https://www.vivareal.com.br/aluguel/sp/sao-paulo/apartamento_residencial/?pagina=25\n",
            "Coletando URL: https://www.vivareal.com.br/aluguel/sp/sao-paulo/apartamento_residencial/?pagina=26\n",
            "Coletando URL: https://www.vivareal.com.br/aluguel/sp/sao-paulo/apartamento_residencial/?pagina=27\n",
            "Coletando URL: https://www.vivareal.com.br/aluguel/sp/sao-paulo/apartamento_residencial/?pagina=28\n",
            "Coletando URL: https://www.vivareal.com.br/aluguel/sp/sao-paulo/apartamento_residencial/?pagina=29\n",
            "Coletando URL: https://www.vivareal.com.br/aluguel/sp/sao-paulo/apartamento_residencial/?pagina=30\n",
            "Coletando URL: https://www.vivareal.com.br/aluguel/sp/sao-paulo/apartamento_residencial/?pagina=31\n",
            "Coletando URL: https://www.vivareal.com.br/aluguel/sp/sao-paulo/apartamento_residencial/?pagina=32\n",
            "Coletando URL: https://www.vivareal.com.br/aluguel/sp/sao-paulo/apartamento_residencial/?pagina=33\n",
            "Coletando URL: https://www.vivareal.com.br/aluguel/sp/sao-paulo/apartamento_residencial/?pagina=34\n",
            "Coletando URL: https://www.vivareal.com.br/aluguel/sp/sao-paulo/apartamento_residencial/?pagina=35\n",
            "Coletando URL: https://www.vivareal.com.br/aluguel/sp/sao-paulo/apartamento_residencial/?pagina=36\n",
            "Coletando URL: https://www.vivareal.com.br/aluguel/sp/sao-paulo/apartamento_residencial/?pagina=37\n",
            "Coletando URL: https://www.vivareal.com.br/aluguel/sp/sao-paulo/apartamento_residencial/?pagina=38\n",
            "Coletando URL: https://www.vivareal.com.br/aluguel/sp/sao-paulo/apartamento_residencial/?pagina=39\n"
          ],
          "name": "stdout"
        }
      ]
    },
    {
      "cell_type": "code",
      "metadata": {
        "id": "pio2PEQlJaSU"
      },
      "source": [
        "df_final = pd.concat(df_lista)"
      ],
      "execution_count": 11,
      "outputs": []
    },
    {
      "cell_type": "code",
      "metadata": {
        "colab": {
          "base_uri": "https://localhost:8080/",
          "height": 204
        },
        "id": "lmB0-Ly1Jm3F",
        "outputId": "895508ef-8c70-47f4-8007-9486bb4863f1"
      },
      "source": [
        "df_final.head()"
      ],
      "execution_count": 12,
      "outputs": [
        {
          "output_type": "execute_result",
          "data": {
            "text/html": [
              "<div>\n",
              "<style scoped>\n",
              "    .dataframe tbody tr th:only-of-type {\n",
              "        vertical-align: middle;\n",
              "    }\n",
              "\n",
              "    .dataframe tbody tr th {\n",
              "        vertical-align: top;\n",
              "    }\n",
              "\n",
              "    .dataframe thead th {\n",
              "        text-align: right;\n",
              "    }\n",
              "</style>\n",
              "<table border=\"1\" class=\"dataframe\">\n",
              "  <thead>\n",
              "    <tr style=\"text-align: right;\">\n",
              "      <th></th>\n",
              "      <th>aluguel</th>\n",
              "      <th>quartos</th>\n",
              "      <th>endereco</th>\n",
              "      <th>banheiro</th>\n",
              "      <th>vaga</th>\n",
              "      <th>area</th>\n",
              "    </tr>\n",
              "  </thead>\n",
              "  <tbody>\n",
              "    <tr>\n",
              "      <th>0</th>\n",
              "      <td>R$ 2.500 /Mês</td>\n",
              "      <td>3   Quartos</td>\n",
              "      <td>Rua Camillo Nader, 175 - Morumbi, São Paulo - SP</td>\n",
              "      <td>3   Banheiros</td>\n",
              "      <td>2   Vagas</td>\n",
              "      <td>125   m²</td>\n",
              "    </tr>\n",
              "    <tr>\n",
              "      <th>1</th>\n",
              "      <td>R$ 6.500 /Mês</td>\n",
              "      <td>1   Quarto</td>\n",
              "      <td>Rua Doutor Mário Ferraz, 415 - Itaim Bibi, São...</td>\n",
              "      <td>2   Banheiros</td>\n",
              "      <td>1   Vaga</td>\n",
              "      <td>50   m²</td>\n",
              "    </tr>\n",
              "    <tr>\n",
              "      <th>2</th>\n",
              "      <td>R$ 4.200 /Mês</td>\n",
              "      <td>3   Quartos</td>\n",
              "      <td>Alameda Joaquim Eugênio de Lima, 1094 - Jardim...</td>\n",
              "      <td>3   Banheiros</td>\n",
              "      <td>2   Vagas</td>\n",
              "      <td>104   m²</td>\n",
              "    </tr>\n",
              "    <tr>\n",
              "      <th>3</th>\n",
              "      <td>R$ 2.400 /Mês</td>\n",
              "      <td>1   Quarto</td>\n",
              "      <td>Avenida Jacutinga, 251 - Indianópolis, São Pau...</td>\n",
              "      <td>1   Banheiro</td>\n",
              "      <td>2   Vagas</td>\n",
              "      <td>44   m²</td>\n",
              "    </tr>\n",
              "    <tr>\n",
              "      <th>4</th>\n",
              "      <td>R$ 2.000 /Mês</td>\n",
              "      <td>2   Quartos</td>\n",
              "      <td>Rua Comendador Miguel Calfat, 62 - Vila Nova C...</td>\n",
              "      <td>2   Banheiros</td>\n",
              "      <td>1   Vaga</td>\n",
              "      <td>56   m²</td>\n",
              "    </tr>\n",
              "  </tbody>\n",
              "</table>\n",
              "</div>"
            ],
            "text/plain": [
              "              aluguel          quartos  ...           vaga          area\n",
              "0     R$ 2.500 /Mês      3   Quartos    ...    2   Vagas      125   m²  \n",
              "1     R$ 6.500 /Mês       1   Quarto    ...     1   Vaga       50   m²  \n",
              "2     R$ 4.200 /Mês      3   Quartos    ...    2   Vagas      104   m²  \n",
              "3     R$ 2.400 /Mês       1   Quarto    ...    2   Vagas       44   m²  \n",
              "4     R$ 2.000 /Mês      2   Quartos    ...     1   Vaga       56   m²  \n",
              "\n",
              "[5 rows x 6 columns]"
            ]
          },
          "metadata": {
            "tags": []
          },
          "execution_count": 12
        }
      ]
    },
    {
      "cell_type": "code",
      "metadata": {
        "id": "ZSpacZpCJ3co"
      },
      "source": [
        "df_final['bairro'] = df_final.endereco.str.split('\\s-').str[1]\r\n",
        "df_final['rua'] = df_final.endereco.str.split('\\s-').str[0]\r\n",
        "df_final['bairro'] = df_final.bairro.str.split(',').str[0]"
      ],
      "execution_count": 13,
      "outputs": []
    },
    {
      "cell_type": "code",
      "metadata": {
        "colab": {
          "base_uri": "https://localhost:8080/",
          "height": 289
        },
        "id": "BrADmrImJ4sK",
        "outputId": "c9ef2537-84a8-4b10-da19-517c6b0290cd"
      },
      "source": [
        "df_final.head()"
      ],
      "execution_count": 14,
      "outputs": [
        {
          "output_type": "execute_result",
          "data": {
            "text/html": [
              "<div>\n",
              "<style scoped>\n",
              "    .dataframe tbody tr th:only-of-type {\n",
              "        vertical-align: middle;\n",
              "    }\n",
              "\n",
              "    .dataframe tbody tr th {\n",
              "        vertical-align: top;\n",
              "    }\n",
              "\n",
              "    .dataframe thead th {\n",
              "        text-align: right;\n",
              "    }\n",
              "</style>\n",
              "<table border=\"1\" class=\"dataframe\">\n",
              "  <thead>\n",
              "    <tr style=\"text-align: right;\">\n",
              "      <th></th>\n",
              "      <th>aluguel</th>\n",
              "      <th>quartos</th>\n",
              "      <th>endereco</th>\n",
              "      <th>banheiro</th>\n",
              "      <th>vaga</th>\n",
              "      <th>area</th>\n",
              "      <th>bairro</th>\n",
              "      <th>rua</th>\n",
              "    </tr>\n",
              "  </thead>\n",
              "  <tbody>\n",
              "    <tr>\n",
              "      <th>0</th>\n",
              "      <td>R$ 2.500 /Mês</td>\n",
              "      <td>3   Quartos</td>\n",
              "      <td>Rua Camillo Nader, 175 - Morumbi, São Paulo - SP</td>\n",
              "      <td>3   Banheiros</td>\n",
              "      <td>2   Vagas</td>\n",
              "      <td>125   m²</td>\n",
              "      <td>Morumbi</td>\n",
              "      <td>Rua Camillo Nader, 175</td>\n",
              "    </tr>\n",
              "    <tr>\n",
              "      <th>1</th>\n",
              "      <td>R$ 6.500 /Mês</td>\n",
              "      <td>1   Quarto</td>\n",
              "      <td>Rua Doutor Mário Ferraz, 415 - Itaim Bibi, São...</td>\n",
              "      <td>2   Banheiros</td>\n",
              "      <td>1   Vaga</td>\n",
              "      <td>50   m²</td>\n",
              "      <td>Itaim Bibi</td>\n",
              "      <td>Rua Doutor Mário Ferraz, 415</td>\n",
              "    </tr>\n",
              "    <tr>\n",
              "      <th>2</th>\n",
              "      <td>R$ 4.200 /Mês</td>\n",
              "      <td>3   Quartos</td>\n",
              "      <td>Alameda Joaquim Eugênio de Lima, 1094 - Jardim...</td>\n",
              "      <td>3   Banheiros</td>\n",
              "      <td>2   Vagas</td>\n",
              "      <td>104   m²</td>\n",
              "      <td>Jardim Paulista</td>\n",
              "      <td>Alameda Joaquim Eugênio de Lima, 1094</td>\n",
              "    </tr>\n",
              "    <tr>\n",
              "      <th>3</th>\n",
              "      <td>R$ 2.400 /Mês</td>\n",
              "      <td>1   Quarto</td>\n",
              "      <td>Avenida Jacutinga, 251 - Indianópolis, São Pau...</td>\n",
              "      <td>1   Banheiro</td>\n",
              "      <td>2   Vagas</td>\n",
              "      <td>44   m²</td>\n",
              "      <td>Indianópolis</td>\n",
              "      <td>Avenida Jacutinga, 251</td>\n",
              "    </tr>\n",
              "    <tr>\n",
              "      <th>4</th>\n",
              "      <td>R$ 2.000 /Mês</td>\n",
              "      <td>2   Quartos</td>\n",
              "      <td>Rua Comendador Miguel Calfat, 62 - Vila Nova C...</td>\n",
              "      <td>2   Banheiros</td>\n",
              "      <td>1   Vaga</td>\n",
              "      <td>56   m²</td>\n",
              "      <td>Vila Nova Conceição</td>\n",
              "      <td>Rua Comendador Miguel Calfat, 62</td>\n",
              "    </tr>\n",
              "  </tbody>\n",
              "</table>\n",
              "</div>"
            ],
            "text/plain": [
              "              aluguel  ...                                    rua\n",
              "0     R$ 2.500 /Mês    ...                 Rua Camillo Nader, 175\n",
              "1     R$ 6.500 /Mês    ...           Rua Doutor Mário Ferraz, 415\n",
              "2     R$ 4.200 /Mês    ...  Alameda Joaquim Eugênio de Lima, 1094\n",
              "3     R$ 2.400 /Mês    ...                 Avenida Jacutinga, 251\n",
              "4     R$ 2.000 /Mês    ...       Rua Comendador Miguel Calfat, 62\n",
              "\n",
              "[5 rows x 8 columns]"
            ]
          },
          "metadata": {
            "tags": []
          },
          "execution_count": 14
        }
      ]
    }
  ]
}