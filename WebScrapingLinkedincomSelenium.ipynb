{
  "nbformat": 4,
  "nbformat_minor": 0,
  "metadata": {
    "colab": {
      "name": "WebScrapingLinkedincomSelenium.ipynb",
      "provenance": [],
      "collapsed_sections": [],
      "authorship_tag": "ABX9TyPffz5qEHScSnjvv4uk1iT8",
      "include_colab_link": true
    },
    "kernelspec": {
      "name": "python3",
      "display_name": "Python 3"
    }
  },
  "cells": [
    {
      "cell_type": "markdown",
      "metadata": {
        "id": "view-in-github",
        "colab_type": "text"
      },
      "source": [
        "<a href=\"https://colab.research.google.com/github/robsonbfreitas/ColetaDeDados/blob/main/WebScrapingLinkedincomSelenium.ipynb\" target=\"_parent\"><img src=\"https://colab.research.google.com/assets/colab-badge.svg\" alt=\"Open In Colab\"/></a>"
      ]
    },
    {
      "cell_type": "code",
      "metadata": {
        "id": "YdXnD1E9Jy5u"
      },
      "source": [
        "from selenium import webdriver"
      ],
      "execution_count": null,
      "outputs": []
    },
    {
      "cell_type": "code",
      "metadata": {
        "id": "pCZCS8whJ7pO"
      },
      "source": [
        "driver = webdriver.Chrome()"
      ],
      "execution_count": null,
      "outputs": []
    },
    {
      "cell_type": "code",
      "metadata": {
        "id": "r0s0htyEJ-BK"
      },
      "source": [
        "driver.get('http://linkedin.com.br')"
      ],
      "execution_count": null,
      "outputs": []
    },
    {
      "cell_type": "code",
      "metadata": {
        "id": "8J5HVHtdKA4B"
      },
      "source": [
        "listaJobs = driver.find_elements_by_class_name('disabled.ember-view.job-card-container__link.job-card-list__title')"
      ],
      "execution_count": null,
      "outputs": []
    },
    {
      "cell_type": "code",
      "metadata": {
        "id": "U5MnLrsIKHGK"
      },
      "source": [
        "listaDescricao = []\r\n",
        "for item in listaJobs:\r\n",
        "     item.click()\r\n",
        "     descricao = driver.find_element_by_class_name('jobs-box--fadein.jobs-box--full-width.jobs-box--with-cta-large.jobs-description')\r\n",
        "     listaDescricao.append(descricao.text)"
      ],
      "execution_count": null,
      "outputs": []
    }
  ]
}